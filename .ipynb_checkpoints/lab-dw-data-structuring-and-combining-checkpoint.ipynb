{
 "cells": [
  {
   "cell_type": "markdown",
   "id": "25d7736c-ba17-4aff-b6bb-66eba20fbf4e",
   "metadata": {
    "id": "25d7736c-ba17-4aff-b6bb-66eba20fbf4e"
   },
   "source": [
    "# Lab | Data Structuring and Combining Data"
   ]
  },
  {
   "cell_type": "markdown",
   "id": "a2cdfc70-44c8-478c-81e7-2bc43fdf4986",
   "metadata": {
    "id": "a2cdfc70-44c8-478c-81e7-2bc43fdf4986"
   },
   "source": [
    "## Challenge 1: Combining & Cleaning Data\n",
    "\n",
    "In this challenge, we will be working with the customer data from an insurance company, as we did in the two previous labs. The data can be found here:\n",
    "- https://raw.githubusercontent.com/data-bootcamp-v4/data/main/file1.csv\n",
    "\n",
    "But this time, we got new data, which can be found in the following 2 CSV files located at the links below.\n",
    "\n",
    "- https://raw.githubusercontent.com/data-bootcamp-v4/data/main/file2.csv\n",
    "- https://raw.githubusercontent.com/data-bootcamp-v4/data/main/file3.csv\n",
    "\n",
    "Note that you'll need to clean and format the new data.\n",
    "\n",
    "Observation:\n",
    "- One option is to first combine the three datasets and then apply the cleaning function to the new combined dataset\n",
    "- Another option would be to read the clean file you saved in the previous lab, and just clean the two new files and concatenate the three clean datasets"
   ]
  },
  {
   "cell_type": "code",
   "execution_count": 71,
   "id": "492d06e3-92c7-4105-ac72-536db98d3244",
   "metadata": {
    "id": "492d06e3-92c7-4105-ac72-536db98d3244"
   },
   "outputs": [
    {
     "name": "stdout",
     "output_type": "stream",
     "text": [
      "dc_cleaned Index(['customer', 'state', 'gender', 'education', 'customer_lifetime_value',\n",
      "       'income', 'monthly_premium_auto', 'number_of_open_complaints',\n",
      "       'policy_type', 'vehicle_class', 'total_claim_amount'],\n",
      "      dtype='object')\n",
      "dc_2 Index(['customer', 'state', 'gender', 'education', 'customer_lifetime_value',\n",
      "       'income', 'monthly_premium_auto', 'number_of_open_complaints',\n",
      "       'total_claim_amount', 'policy_type', 'vehicle_class'],\n",
      "      dtype='object')\n",
      "dc_3 Index(['customer', 'state', 'customer_lifetime_value', 'education', 'gender',\n",
      "       'income', 'monthly_premium_auto', 'number_of_open_complaints',\n",
      "       'policy_type', 'total_claim_amount', 'vehicle_class'],\n",
      "      dtype='object')\n"
     ]
    },
    {
     "data": {
      "text/html": [
       "<div>\n",
       "<style scoped>\n",
       "    .dataframe tbody tr th:only-of-type {\n",
       "        vertical-align: middle;\n",
       "    }\n",
       "\n",
       "    .dataframe tbody tr th {\n",
       "        vertical-align: top;\n",
       "    }\n",
       "\n",
       "    .dataframe thead th {\n",
       "        text-align: right;\n",
       "    }\n",
       "</style>\n",
       "<table border=\"1\" class=\"dataframe\">\n",
       "  <thead>\n",
       "    <tr style=\"text-align: right;\">\n",
       "      <th></th>\n",
       "      <th>customer</th>\n",
       "      <th>state</th>\n",
       "      <th>gender</th>\n",
       "      <th>education</th>\n",
       "      <th>customer_lifetime_value</th>\n",
       "      <th>income</th>\n",
       "      <th>monthly_premium_auto</th>\n",
       "      <th>number_of_open_complaints</th>\n",
       "      <th>policy_type</th>\n",
       "      <th>vehicle_class</th>\n",
       "      <th>total_claim_amount</th>\n",
       "    </tr>\n",
       "  </thead>\n",
       "  <tbody>\n",
       "    <tr>\n",
       "      <th>0</th>\n",
       "      <td>rb50392</td>\n",
       "      <td>washington</td>\n",
       "      <td>NaN</td>\n",
       "      <td>Master</td>\n",
       "      <td>0</td>\n",
       "      <td>0</td>\n",
       "      <td>1000</td>\n",
       "      <td>0</td>\n",
       "      <td>Personal Auto</td>\n",
       "      <td>Four-Door Car</td>\n",
       "      <td>2.0</td>\n",
       "    </tr>\n",
       "    <tr>\n",
       "      <th>1</th>\n",
       "      <td>qz44356</td>\n",
       "      <td>arizona</td>\n",
       "      <td>F</td>\n",
       "      <td>Bachelor</td>\n",
       "      <td>697953</td>\n",
       "      <td>0</td>\n",
       "      <td>94</td>\n",
       "      <td>0</td>\n",
       "      <td>Personal Auto</td>\n",
       "      <td>Four-Door Car</td>\n",
       "      <td>1131.0</td>\n",
       "    </tr>\n",
       "    <tr>\n",
       "      <th>2</th>\n",
       "      <td>ai49188</td>\n",
       "      <td>nevada</td>\n",
       "      <td>F</td>\n",
       "      <td>Bachelor</td>\n",
       "      <td>1288743</td>\n",
       "      <td>48767</td>\n",
       "      <td>108</td>\n",
       "      <td>0</td>\n",
       "      <td>Personal Auto</td>\n",
       "      <td>Two-Door Car</td>\n",
       "      <td>566.0</td>\n",
       "    </tr>\n",
       "    <tr>\n",
       "      <th>3</th>\n",
       "      <td>ww63253</td>\n",
       "      <td>california</td>\n",
       "      <td>M</td>\n",
       "      <td>Bachelor</td>\n",
       "      <td>764586</td>\n",
       "      <td>0</td>\n",
       "      <td>106</td>\n",
       "      <td>0</td>\n",
       "      <td>Corporate Auto</td>\n",
       "      <td>SUV</td>\n",
       "      <td>529.0</td>\n",
       "    </tr>\n",
       "    <tr>\n",
       "      <th>4</th>\n",
       "      <td>ga49547</td>\n",
       "      <td>washington</td>\n",
       "      <td>M</td>\n",
       "      <td>High School or Below</td>\n",
       "      <td>536307</td>\n",
       "      <td>36357</td>\n",
       "      <td>68</td>\n",
       "      <td>0</td>\n",
       "      <td>Personal Auto</td>\n",
       "      <td>Four-Door Car</td>\n",
       "      <td>17.0</td>\n",
       "    </tr>\n",
       "  </tbody>\n",
       "</table>\n",
       "</div>"
      ],
      "text/plain": [
       "  customer       state gender             education customer_lifetime_value  \\\n",
       "0  rb50392  washington    NaN                Master                       0   \n",
       "1  qz44356     arizona      F              Bachelor                  697953   \n",
       "2  ai49188      nevada      F              Bachelor                 1288743   \n",
       "3  ww63253  california      M              Bachelor                  764586   \n",
       "4  ga49547  washington      M  High School or Below                  536307   \n",
       "\n",
       "   income  monthly_premium_auto number_of_open_complaints     policy_type  \\\n",
       "0       0                  1000                         0   Personal Auto   \n",
       "1       0                    94                         0   Personal Auto   \n",
       "2   48767                   108                         0   Personal Auto   \n",
       "3       0                   106                         0  Corporate Auto   \n",
       "4   36357                    68                         0   Personal Auto   \n",
       "\n",
       "   vehicle_class  total_claim_amount  \n",
       "0  Four-Door Car                 2.0  \n",
       "1  Four-Door Car              1131.0  \n",
       "2   Two-Door Car               566.0  \n",
       "3            SUV               529.0  \n",
       "4  Four-Door Car                17.0  "
      ]
     },
     "execution_count": 71,
     "metadata": {},
     "output_type": "execute_result"
    }
   ],
   "source": [
    "# import data \n",
    "\n",
    "import pandas as pd\n",
    "import numpy as np\n",
    "\n",
    "dc_cleaned = pd.read_csv('/Users/verapinto/Desktop/LABS/lab-dw-data-cleaning-and-formatting/cleaned_dataset.csv')\n",
    "dc_2 = pd.read_csv('https://raw.githubusercontent.com/data-bootcamp-v4/data/main/file2.csv')\n",
    "dc_3 = pd.read_csv('https://raw.githubusercontent.com/data-bootcamp-v4/data/main/file3.csv')\n",
    "\n",
    "# standardize column names:\n",
    "\n",
    "# change column names to lower case\n",
    "dc_2.columns = dc_2.columns.str.lower()\n",
    "dc_3.columns = dc_3.columns.str.lower()\n",
    "\n",
    "# replace white spaces in column names by _\n",
    "dc_2.columns = dc_2.columns.str.replace(r'\\s+', '_', regex=True)\n",
    "dc_3.columns = dc_3.columns.str.replace(r'\\s+', '_', regex=True)\n",
    "\n",
    "dc_2.rename(columns={'st': 'state'}, inplace=True)\n",
    "\n",
    "#check column names\n",
    "print(\"dc_cleaned\",dc_cleaned.columns)\n",
    "print(\"dc_2\",dc_2.columns)\n",
    "print(\"dc_3\",dc_3.columns)\n",
    "\n",
    "# Concatenate vertically\n",
    "dc_combined = pd.concat([dc_cleaned, dc_2, dc_3], ignore_index=True)\n",
    "\n",
    "\n",
    "# Print combined dataset columns\n",
    "dc_combined.head()\n"
   ]
  },
  {
   "cell_type": "code",
   "execution_count": 73,
   "id": "e2945d9e-fdde-4431-8c5e-affb4ce0084e",
   "metadata": {},
   "outputs": [
    {
     "name": "stdout",
     "output_type": "stream",
     "text": [
      "Dc_2 Gender: ['F' 'M' nan]\n",
      "Dc_2 Education: ['Bachelor' 'Master' 'College' 'Doctor' 'High School or Below']\n",
      "Dc_2 CLV: [ 323912.47  462680.11  899704.02 2580706.3   380812.21  761413.8\n",
      "  689845.53  229837.92  280669.61  520611.82 4570865.34  800734.91\n",
      "  548254.94  246323.68  549894.07  524382.8   328045.73  488654.43\n",
      "  512348.5   547955.51  476215.7   828767.93  988665.64  271291.56\n",
      " 1047767.63  343613.43  259618.52 1273195.16  349414.79  759791.07\n",
      "  401521.45 2047710.84  816068.98 1229868.63  871492.21  485353.42\n",
      "  488094.64  231138.21  432709.89  832353.33 1017971.7   776126.78\n",
      "  523989.09  451790.88  238977.41  413062.88  269156.9   522776.64\n",
      "  618734.57  511387.47 1103931.62 3222708.39  261196.59 1337232.77\n",
      "  483898.19  472165.9   387364.7   471855.85 1697979.76 1368171.18\n",
      "  571722.19  948659.64  383914.37 1121159.03  379832.17  281656.74\n",
      "  502929.7   344496.75  285940.86  269205.76 1143173.09  763588.33\n",
      "  980582.96  680361.56  710765.54  473518.45  687432.67  241125.66\n",
      "  241654.24 2398154.34  469216.52  360093.43  266522.25  766652.04\n",
      " 1667589.62  455085.6  1176393.57 1374253.72 1613841.63  729858.36\n",
      "  667373.77  778212.68 1939321.15  397413.82  410558.1   230847.21\n",
      "  537291.45  550831.55  239833.32  372883.01  275849.86  370393.03\n",
      "  937284.36  499158.45  503986.93  275997.83  799300.4   523557.35\n",
      "  263301.18  276480.23  808484.64  268517.77 1220812.   2009043.87\n",
      "  513341.48  249131.7   631459.68 1622964.89  516178.99  398226.61\n",
      " 1347318.57  277832.39  827644.42 1434985.99  587819.93  266605.45\n",
      "  534568.1   477712.16 1697374.02  251811.21 1916098.99 3286440.46\n",
      "  396481.3   491177.31  780531.29  720066.49  538949.95  324131.42\n",
      "  552821.28  299302.46  707665.32  370038.5   532883.59  483887.71\n",
      "  341720.5   787992.9   786943.24  258680.72  728678.91 1179799.21\n",
      "  938675.3   630892.24  860915.82 1542801.04  563079.3  1813118.87\n",
      "  808721.95 1845357.63  521751.33  483578.32  559712.5   892046.4\n",
      "  599541.1  3849694.7   838263.01  244366.52  247225.39  540551.84\n",
      "  935247.9   433987.11 1772376.4   750745.54  604857.42 1901447.63\n",
      " 1008037.03  650339.7   248772.97  462039.01  247152.84  649424.4\n",
      "  250490.76  490489.47  480247.7   795577.48  694190.08  838247.84\n",
      "  353643.18  324481.66  761121.28  450539.83  244584.48 1647776.84\n",
      "  354640.02  427727.01  478477.35  757223.77 1176087.64  393381.4\n",
      "  570076.18  349863.48  576809.13  636195.4   493519.    578522.35\n",
      "  561968.91  259928.96  673297.09 1832186.65  230069.15  400285.76\n",
      "  862099.74 1038898.6   842717.25  700727.42  517657.91  470000.75\n",
      "  443494.14 1401052.74 1235005.82  816157.69 1100913.05  871704.98\n",
      "  591746.66  250366.04  501888.52  433038.6  1048774.33  356750.38\n",
      " 1989642.23 2142363.72  694832.59  351583.19 1203662.05  360979.83\n",
      " 1773246.49  850985.09  586642.43  482550.09  777800.56 2634608.58\n",
      " 1486645.12  832423.27  923830.6  2269329.08  623601.86  501218.48\n",
      " 1569553.94  821460.24  311898.11  276403.21  688368.66  221591.29\n",
      "  485474.57 2152294.75  276169.17 2256361.84  528591.83 3506264.8\n",
      "  591319.9   259339.87 1269267.09  330911.97  518162.09  241393.06\n",
      "  216168.55  552798.89 1062921.79 1182010.98  496463.15  912292.56\n",
      "  346066.5   287298.08  992787.77  348268.7   399172.72  551010.74\n",
      "  541945.81  581063.05  394272.58  312627.19  353000.77 1099059.48\n",
      "  477294.38  220233.52  245917.17 1037388.88  258420.39  430742.28\n",
      "  304025.38  817657.68  528530.76  802499.3   281046.44  773955.04\n",
      "  410979.36  327516.2   265269.53  504822.62  336241.44  485842.94\n",
      "  214492.15  604261.85  338720.33 1086427.49  884265.    261661.39\n",
      " 3076325.64  520022.78  859130.54  264657.38  460724.43  486062.\n",
      "  258084.99  529139.53  840575.3   309651.12 2941228.93        nan\n",
      " 1749752.2   321860.86 2320726.97  692197.4  1391853.48  896630.98\n",
      " 1198198.48  553262.98 1166057.3   288645.16 1274184.75  539809.81\n",
      "  728503.1  1765196.34 1702989.34  249125.76  403931.5   261933.74\n",
      "  504968.96  498345.71  253063.94  739671.97  383289.85  496140.59\n",
      "  386148.63 2265853.65 1040896.87  483471.05  825766.65  305262.95\n",
      "  401231.93 1335548.64  236443.16  248933.79  475572.   1386438.5\n",
      "  302042.48  628530.52  250602.2   282630.76  436971.79 1217458.8\n",
      "  352804.43 1043657.47  274612.14  917517.19  272752.08  944974.59\n",
      "  456881.94  257402.04  878988.41  250740.78  252241.46  754271.4\n",
      "  600521.48 2099825.95  234508.45  878316.54  452996.54  603322.24\n",
      "  530824.7   267473.07  492980.75 1413112.13  438627.76 1911656.81\n",
      "  663166.55  743229.99  292811.51 4661187.38 1651500.93 1021356.34\n",
      " 1004928.59  574614.83  374675.16  748606.84  912006.52  567804.67\n",
      "  751708.38  453053.07  269138.06  806862.39  247857.67  911204.15\n",
      "  277244.13  430579.32  510335.76  478496.05 1054110.98  528511.87\n",
      "  761084.05  851052.59 1617294.05  242549.48  289931.72  363305.4\n",
      "  345715.42  339472.03  802106.71  584152.81  547985.42 2045524.95\n",
      "  831912.3   258286.23  416379.34  485310.03  753169.73  258593.7\n",
      "  269596.39  268458.16  810936.46  903665.76  535218.7  1188096.62\n",
      "  255709.43  791482.31  984008.26  435155.05 2220782.62  482525.86\n",
      "  694783.88  334480.95  235750.31 3594471.05  404816.13  685200.19\n",
      "  290302.42 1803911.42  324204.39  246762.08  567438.34  863435.6\n",
      "  278019.69 2205600.5   251459.2   588622.11  770603.63  279045.82\n",
      "  239703.61  883432.28 1443567.37  687196.66 1536235.44  483479.75\n",
      " 1089930.18  528404.1   289172.68  490054.51 2084259.63  524605.72\n",
      "  663083.61  389503.48 1170106.99  341910.87  730277.51 1968540.91\n",
      "  248606.49  522432.88 4922143.07  316788.87 1319792.89  623430.59\n",
      "  753960.06  815793.36 1315674.9   533938.84  864917.5   751913.36\n",
      "  429300.96  253774.45 1316033.89 1323554.44  374457.77 2848607.28\n",
      "  264468.46  507328.21  427258.51 1100301.65 1418164.28  554803.19\n",
      " 1107768.59  243568.9   874385.22  240976.09  550001.25  852828.87\n",
      "  359199.61  853982.69  699091.78  397938.82 2395037.44  232105.25\n",
      "  508702.05  436293.12  745746.81  702775.96  283168.37  421785.79\n",
      "  759629.15  836567.76  272639.3   342045.22  483910.72  435855.35\n",
      " 1242739.37 2351585.33  839632.76  517097.64  558530.81  863949.5\n",
      "  528183.35  838525.23  463310.13  248039.27  361868.69  537584.28\n",
      "  489329.15 1073768.43  260781.55 1572525.05  955341.55  732492.82\n",
      "  533303.81 1276723.06  265933.8   348363.04  463654.65 1753003.66\n",
      "  697871.98  291224.84  420927.93  500980.89 1149033.62  286454.4\n",
      "  840391.02 2039596.88  529263.25 1672777.19  580112.83  947297.38\n",
      " 1048491.54  438731.09  452288.35  541815.21 1578529.69 2211039.8\n",
      " 1359619.97  475612.62  244705.31  567592.33  739903.21  730843.39\n",
      " 3287174.78  522892.01 2070086.45  633303.08  629273.54  491788.96\n",
      "  516581.    629159.    458267.42  606244.16  497907.99  583056.14\n",
      "  374257.91  384959.67 1526581.49  531780.72  237480.92  553286.33\n",
      "  571978.57  451220.44  726480.39  865886.38  559938.29 1522819.87\n",
      "  364483.36  369344.08  938816.29 3116269.33  928373.78  255122.67\n",
      "  581191.81  406467.06  284144.31  683213.39  520197.14  548458.82\n",
      "  767268.14  827248.54  333067.28  556245.64  245273.86  792028.29\n",
      "  576478.42  259389.79  288235.06  221318.79  942962.94  623925.75\n",
      "  766880.96 1377097.62  274284.43 1346692.07  885835.2   848533.\n",
      "  774464.44  589490.74  577068.41  526111.75  240353.95  912460.\n",
      " 2618080.53 1564125.86  531983.87  749600.66 1217458.96  260557.08\n",
      "  270720.85  279490.75  881901.89  534599.46  816951.4   770888.39\n",
      " 1212844.67  679684.48  286731.22  239557.    709416.77  412809.13\n",
      "  404693.61  486928.28  290215.19  428294.8   775012.03  662717.46\n",
      "  747460.58  556129.14  609846.21  285952.89  599442.46  563524.95\n",
      "  506720.83  226328.46  492839.71  856476.82  236188.39  556569.33\n",
      "  514680.98  293808.03 1443274.64 1302741.98  245198.88  466198.41\n",
      "  560001.02  401613.28 2219580.3   734335.37  480451.43  273553.89\n",
      "  694097.28  239621.93  538089.86  843281.57  755650.75  778743.17\n",
      "  478781.29  970764.76  255222.62  522342.93  501044.93  560831.63\n",
      "  445793.63  820078.73  274608.01 1021577.92  245357.08  587295.88\n",
      "  311892.79  556865.65  902971.47  759182.72  225531.29 3261369.04\n",
      "  944564.95  680359.68  976621.71  729484.61  568251.53  633294.18\n",
      "  491657.7   479824.09  564380.24  924746.44  732292.89  827590.01\n",
      "  563540.37 1497028.51  933633.69 4835696.08  568691.53  862283.54\n",
      "  507967.48  562331.45  527001.36  862117.22  791833.49 2103401.82\n",
      " 1541768.22  869263.68  650314.39  239619.24  591495.18  224844.96\n",
      "  682679.77  398218.07  288777.97  225241.68  845853.13  747831.37\n",
      "  378864.98  522068.53  713029.48  851359.27  566013.38  263814.01\n",
      "  531889.66  416016.26  223734.78  346012.3  1600550.51  698660.37\n",
      "  882696.15  472686.93 2744347.48  724731.35  513785.21  273905.72\n",
      "  509279.39  579982.68  550706.32  850128.    293598.83 4680522.31\n",
      "  257532.37 3711165.95  437119.04 1679633.6   798850.64  226984.11\n",
      "  499147.2   292193.09  761319.31  582740.97  260064.12  849146.57\n",
      "  977873.36 1000402.76  487277.44  744481.46  576111.12  536677.91\n",
      "  625947.78  762358.07 1096395.72  742784.51  550413.9   466512.96\n",
      "  602184.25  307410.55  495308.64  778048.93  799277.91  417068.73\n",
      " 2322823.67  544581.7   455849.84 1039066.65  714254.91  546954.3\n",
      " 1162873.4  1018965.43  273343.19  401445.31  711953.19 1177279.07\n",
      "  238179.08  520835.39  501872.79 1190054.48  580017.19  567438.12\n",
      "  727143.4   316449.4   266103.34 1414055.89  765422.71  219973.95\n",
      "  200435.07 1311111.32 1576260.35  278753.98  271336.8  1459024.58\n",
      "  665247.45  244462.11  289691.88 1097206.78 1935737.2   722712.04\n",
      "  785730.39  428106.22 1151316.29  514711.02  866349.76  253532.17\n",
      " 2150433.88  734932.85  429718.91 1747664.14 1047989.97  224257.44\n",
      "  275445.68  804120.06  604291.19  282743.89 2204185.64  279680.22\n",
      "  407284.94  518246.23  613166.32  239213.11  320966.3   280860.6\n",
      "  688046.89  359106.67  520125.22  552154.26  507165.15  292168.14\n",
      " 1580653.4   574988.38  416741.96  651495.4   918951.83  823122.34\n",
      "  309517.54  758211.38 1634460.81 1176315.25  405337.38  331115.79\n",
      "  559538.99  508969.43 2233716.31  479283.05 2778969.24  751166.06\n",
      " 1876755.16  498764.31  512319.68  598977.39  242928.05  582818.22\n",
      "  283158.77  976793.69 1209791.22  226531.86  571908.87 1017147.78\n",
      " 1051715.64  430347.14 1192675.33 1653170.38  305928.21  543744.37\n",
      "  510329.66  458310.09  640962.75  899198.45 1223277.63  512603.89\n",
      " 1101416.36  381961.95  840439.51  903567.11  545370.76  376636.66\n",
      "  728393.44  274524.98  262627.94  245681.66  845367.77  350856.95\n",
      "  287735.43  784016.58  277104.5   533948.83  809287.7   864650.41\n",
      "  565923.84  553246.23  794351.33  977460.58  406700.47 2320839.42\n",
      "  732589.27  417034.07  887596.55 1937890.78  597099.57  914887.79\n",
      " 2009689.34  582168.43  309580.34 1059854.25  769512.3   304179.16\n",
      "  868982.25  813177.92  381532.16 1163889.95 2280053.54  446299.7\n",
      " 1315183.2  1401997.55  293115.52  477475.17  847141.75  543121.91\n",
      "  568964.41  368672.38  399258.39]\n",
      "Dc_2 Vehicle: ['Four-Door Car' 'SUV' 'Two-Door Car' 'Luxury']\n",
      "Dc_3 Gender: ['M' 'F']\n",
      "Dc_3 Education: ['High School or Below' 'Master' 'Bachelor' 'College' 'Doctor']\n",
      "Dc_3 CLV: [3479.137523 2502.637401 3265.156348 ... 8163.890428 7524.442436\n",
      " 2611.836866]\n",
      "Dc_3 Vehicle: ['Two-Door Car' 'Four-Door Car' 'SUV' 'Luxury']\n"
     ]
    }
   ],
   "source": [
    "# standardize Gender column to M and F\n",
    "dc_2.gender = dc_2.gender.replace(['Femal','female'],'F').replace('Male','M')\n",
    "dc_3.gender = dc_3.gender.replace(['Femal','female'],'F').replace('Male','M')\n",
    "\n",
    "#replace state abbreviations by full name\n",
    "dc_2.state = dc_2.state.replace('AZ','Arizona').replace('Cali','California').replace('WA','Washington')\n",
    "dc_3.state = dc_3.state.replace('AZ','Arizona').replace('Cali','California').replace('WA','Washington')\n",
    "\n",
    "# replace education \"Bachelors\" by \"Bachelor\"\n",
    "dc_2.education = dc_2.education.replace ('Bachelors','Bachelor')\n",
    "dc_3.education = dc_3.education.replace ('Bachelors','Bachelor')\n",
    "\n",
    "#  delete the % character in Customer Lifetime Value\n",
    "dc_2.customer_lifetime_value = dc_2.customer_lifetime_value.replace('%','',regex= True)\n",
    "dc_2.customer_lifetime_value = dc_2.customer_lifetime_value.astype(float)\n",
    "\n",
    "dc_3.customer_lifetime_value = dc_3.customer_lifetime_value.replace('%','',regex= True)\n",
    "dc_3.customer_lifetime_value = dc_3.customer_lifetime_value.astype(float)\n",
    "\n",
    "#replace \"Sports Car\", \"Luxury SUV\" and \"Luxury Car\", by \"Luxury\"\n",
    "dc_2.vehicle_class = dc_2.vehicle_class.replace(['Luxury SUV','Sports Car','Luxury Car'],'Luxury')\n",
    "dc_3.vehicle_class = dc_3.vehicle_class.replace(['Luxury SUV','Sports Car','Luxury Car'],'Luxury')\n",
    "\n",
    "print('Dc_2 Gender:',dc_2.gender.unique())\n",
    "print('Dc_2 Education:',dc_2.education.unique())\n",
    "print('Dc_2 CLV:',dc_2.customer_lifetime_value.unique())\n",
    "print('Dc_2 Vehicle:',dc_2.vehicle_class.unique())\n",
    "\n",
    "print('Dc_3 Gender:',dc_3.gender.unique())\n",
    "print('Dc_3 Education:',dc_3.education.unique())\n",
    "print('Dc_3 CLV:',dc_3.customer_lifetime_value.unique())\n",
    "print('Dc_3 Vehicle:',dc_3.vehicle_class.unique())"
   ]
  },
  {
   "cell_type": "code",
   "execution_count": 75,
   "id": "7b361e1f-25ea-48dc-bda8-c27ba155546e",
   "metadata": {},
   "outputs": [
    {
     "name": "stdout",
     "output_type": "stream",
     "text": [
      "DC_2: [0 1 3 5 2 4]\n",
      "DC_3: [nan]\n"
     ]
    }
   ],
   "source": [
    "# Process 'Number of Open Complaints' to extract the middle value and convert to numeric type\n",
    "def extract_middle_value(val):\n",
    "    if isinstance(val, str) and len(val.split('/')) == 3:\n",
    "        return int(val.split('/')[1])\n",
    "    return np.nan  # Handle unexpected formats or NaN values\n",
    "\n",
    "dc_2['number_of_open_complaints'] = dc_2['number_of_open_complaints'].apply(extract_middle_value)\n",
    "dc_3['number_of_open_complaints'] = dc_3['number_of_open_complaints'].apply(extract_middle_value)\n",
    "\n",
    "# Convert the column to numeric type\n",
    "dc_2['number_of_open_complaints'] = pd.to_numeric(dc_2['number_of_open_complaints'])\n",
    "dc_3['number_of_open_complaints'] = pd.to_numeric(dc_3['number_of_open_complaints'])\n",
    "\n",
    "# Verify the changes\n",
    "print(\"DC_2:\", dc_2['number_of_open_complaints'].unique())\n",
    "print(\"DC_3:\", dc_3['number_of_open_complaints'].unique())\n"
   ]
  },
  {
   "cell_type": "code",
   "execution_count": 77,
   "id": "321ba302-8c60-4144-a41b-5504184720ec",
   "metadata": {},
   "outputs": [
    {
     "name": "stdout",
     "output_type": "stream",
     "text": [
      "Dc_cleaned:\n",
      " customer                     object\n",
      "state                        object\n",
      "gender                       object\n",
      "education                    object\n",
      "customer_lifetime_value       int64\n",
      "income                        int64\n",
      "monthly_premium_auto          int64\n",
      "number_of_open_complaints     int64\n",
      "policy_type                  object\n",
      "vehicle_class                object\n",
      "total_claim_amount            int64\n",
      "dtype: object\n",
      "Dc_2:\n",
      " customer                      object\n",
      "state                         object\n",
      "gender                        object\n",
      "education                     object\n",
      "customer_lifetime_value      float64\n",
      "income                         int64\n",
      "monthly_premium_auto           int64\n",
      "number_of_open_complaints      int64\n",
      "total_claim_amount           float64\n",
      "policy_type                   object\n",
      "vehicle_class                 object\n",
      "dtype: object\n",
      "Dc_3:\n",
      " customer                      object\n",
      "state                         object\n",
      "customer_lifetime_value      float64\n",
      "education                     object\n",
      "gender                        object\n",
      "income                         int64\n",
      "monthly_premium_auto           int64\n",
      "number_of_open_complaints    float64\n",
      "policy_type                   object\n",
      "total_claim_amount           float64\n",
      "vehicle_class                 object\n",
      "dtype: object\n"
     ]
    }
   ],
   "source": [
    "#check data types\n",
    "\n",
    "print(\"Dc_cleaned:\\n\",dc_cleaned.dtypes)\n",
    "print(\"Dc_2:\\n\",dc_2.dtypes)\n",
    "print(\"Dc_3:\\n\",dc_3.dtypes)"
   ]
  },
  {
   "cell_type": "code",
   "execution_count": 79,
   "id": "c7447f2d-b1f0-442d-9ccc-449e795ae66a",
   "metadata": {},
   "outputs": [
    {
     "name": "stdout",
     "output_type": "stream",
     "text": [
      "Data types after converting numeric columns to integers:\n",
      "Dc_2:\n",
      " customer                     object\n",
      "state                        object\n",
      "gender                       object\n",
      "education                    object\n",
      "customer_lifetime_value       int64\n",
      "income                        int64\n",
      "monthly_premium_auto          int64\n",
      "number_of_open_complaints     int64\n",
      "total_claim_amount            int64\n",
      "policy_type                  object\n",
      "vehicle_class                object\n",
      "dtype: object\n",
      "Dc_3:\n",
      " customer                     object\n",
      "state                        object\n",
      "customer_lifetime_value       int64\n",
      "education                    object\n",
      "gender                       object\n",
      "income                        int64\n",
      "monthly_premium_auto          int64\n",
      "number_of_open_complaints     int64\n",
      "policy_type                  object\n",
      "total_claim_amount            int64\n",
      "vehicle_class                object\n",
      "dtype: object\n"
     ]
    }
   ],
   "source": [
    "# convert all numeric columns to integers\n",
    "numeric_columns = dc_2.select_dtypes(include=['float64']).columns\n",
    "numeric_columns = dc_3.select_dtypes(include=['float64']).columns\n",
    "dc_2[numeric_columns] = dc_2[numeric_columns].fillna(0).astype('int64')\n",
    "dc_3[numeric_columns] = dc_3[numeric_columns].fillna(0).astype('int64')\n",
    "\n",
    "# Verify the changes\n",
    "print(\"Data types after converting numeric columns to integers:\")\n",
    "print(\"Dc_2:\\n\",dc_2.dtypes)\n",
    "print(\"Dc_3:\\n\",dc_3.dtypes)"
   ]
  },
  {
   "cell_type": "code",
   "execution_count": 81,
   "id": "409acf9c-0018-4a23-8558-04de8876c8fd",
   "metadata": {},
   "outputs": [
    {
     "name": "stdout",
     "output_type": "stream",
     "text": [
      "customer                     0\n",
      "state                        0\n",
      "gender                       5\n",
      "education                    0\n",
      "customer_lifetime_value      0\n",
      "income                       0\n",
      "monthly_premium_auto         0\n",
      "number_of_open_complaints    0\n",
      "total_claim_amount           0\n",
      "policy_type                  0\n",
      "vehicle_class                0\n",
      "dtype: int64\n",
      "customer                     0\n",
      "state                        0\n",
      "customer_lifetime_value      0\n",
      "education                    0\n",
      "gender                       0\n",
      "income                       0\n",
      "monthly_premium_auto         0\n",
      "number_of_open_complaints    0\n",
      "policy_type                  0\n",
      "total_claim_amount           0\n",
      "vehicle_class                0\n",
      "dtype: int64\n"
     ]
    }
   ],
   "source": [
    "# Identify columns with null values and count the number of null values in each column\n",
    "null_counts_2 = dc_2.isnull().sum()\n",
    "null_counts_3 = dc_3.isnull().sum()\n",
    "\n",
    "print(null_counts_2)\n",
    "print(null_counts_3)"
   ]
  },
  {
   "cell_type": "code",
   "execution_count": 83,
   "id": "4b2273df-e773-4d89-a90b-5c43304d237b",
   "metadata": {},
   "outputs": [
    {
     "name": "stdout",
     "output_type": "stream",
     "text": [
      "customer                     0\n",
      "state                        0\n",
      "gender                       0\n",
      "education                    0\n",
      "customer_lifetime_value      0\n",
      "income                       0\n",
      "monthly_premium_auto         0\n",
      "number_of_open_complaints    0\n",
      "total_claim_amount           0\n",
      "policy_type                  0\n",
      "vehicle_class                0\n",
      "dtype: int64\n"
     ]
    }
   ],
   "source": [
    "#clean null values\n",
    "dc_2['gender'] = dc_2['gender'].fillna(\"na\")\n",
    "\n",
    "# Verify the cleaned DataFrame\n",
    "dc_2 = dc_2.isnull().sum()\n",
    "print(null_counts_cl_2)"
   ]
  },
  {
   "cell_type": "code",
   "execution_count": 91,
   "id": "fbcb8b75-3ca5-47d8-8e98-55d038800975",
   "metadata": {},
   "outputs": [
    {
     "name": "stdout",
     "output_type": "stream",
     "text": [
      "{'customer': 42, 'state': 9126, 'gender': 9133, 'education': 9131, 'customer_lifetime_value': 871, 'income': 3483, 'monthly_premium_auto': 8928, 'number_of_open_complaints': 9126, 'policy_type': 9134, 'vehicle_class': 9130, 'total_claim_amount': 4148}\n"
     ]
    }
   ],
   "source": [
    "# Function to count duplicates in each column\n",
    "def count_duplicates(dc_combined):\n",
    "    duplicates = {}\n",
    "    for column in dc_combined.columns:\n",
    "        duplicate_count = dc_combined[column].duplicated().sum()\n",
    "        duplicates[column] = duplicate_count\n",
    "    return duplicates\n",
    "\n",
    "# Get the number of duplicates for each column\n",
    "duplicates_by_column = count_duplicates(dc_combined)\n",
    "print(duplicates_by_column)"
   ]
  },
  {
   "cell_type": "code",
   "execution_count": 94,
   "id": "943087f7-98a5-48ac-ad96-14ce1132aa41",
   "metadata": {},
   "outputs": [
    {
     "name": "stdout",
     "output_type": "stream",
     "text": [
      "0\n"
     ]
    }
   ],
   "source": [
    "# Remove duplicates based on specific columns\n",
    "dc_combined['customer'] = dc_combined['customer'].str.strip().str.lower()\n",
    "dc_combined ['state'] = dc_combined['state'].str.strip().str.lower()\n",
    "dc_combined_cleaned = dc_combined.drop_duplicates(subset=['customer','state'])\n",
    "# Verify the number of duplicates in the cleaned DataFrame\n",
    "print(dc_combined_cleaned[['customer','state']].duplicated().sum())"
   ]
  },
  {
   "cell_type": "code",
   "execution_count": 97,
   "id": "cb6abc21-1e3e-49e9-b571-28c8fa7da376",
   "metadata": {},
   "outputs": [],
   "source": [
    "#reset index\n",
    "dc_combined_cleaned.reset_index(drop=True, inplace=True)"
   ]
  },
  {
   "cell_type": "code",
   "execution_count": 100,
   "id": "d75aa107-4a0a-4b05-83e1-566ae005717e",
   "metadata": {},
   "outputs": [],
   "source": [
    "# Save the cleaned dataset to a new CSV file\n",
    "dc_combined_cleaned.to_csv('cleaned_combined_dataset.csv', index=False)"
   ]
  },
  {
   "cell_type": "markdown",
   "id": "31b8a9e7-7db9-4604-991b-ef6771603e57",
   "metadata": {
    "id": "31b8a9e7-7db9-4604-991b-ef6771603e57"
   },
   "source": [
    "# Challenge 2: Structuring Data"
   ]
  },
  {
   "cell_type": "markdown",
   "id": "a877fd6d-7a0c-46d2-9657-f25036e4ca4b",
   "metadata": {
    "id": "a877fd6d-7a0c-46d2-9657-f25036e4ca4b"
   },
   "source": [
    "In this challenge, we will continue to work with customer data from an insurance company, but we will use a dataset with more columns, called marketing_customer_analysis.csv, which can be found at the following link:\n",
    "\n",
    "https://raw.githubusercontent.com/data-bootcamp-v4/data/main/marketing_customer_analysis_clean.csv\n",
    "\n",
    "This dataset contains information such as customer demographics, policy details, vehicle information, and the customer's response to the last marketing campaign. Our goal is to explore and analyze this data by performing data cleaning, formatting, and structuring."
   ]
  },
  {
   "cell_type": "code",
   "execution_count": 132,
   "id": "aa10d9b0-1c27-4d3f-a8e4-db6ab73bfd26",
   "metadata": {
    "id": "aa10d9b0-1c27-4d3f-a8e4-db6ab73bfd26"
   },
   "outputs": [
    {
     "name": "stdout",
     "output_type": "stream",
     "text": [
      "   unnamed:_0 customer       state  customer_lifetime_value response  \\\n",
      "0           0  DK49336     Arizona              4809.216960       No   \n",
      "1           1  KX64629  California              2228.525238       No   \n",
      "2           2  LZ68649  Washington             14947.917300       No   \n",
      "3           3  XL78013      Oregon             22332.439460      Yes   \n",
      "4           4  QA50777      Oregon              9025.067525       No   \n",
      "\n",
      "   coverage education effective_to_date employmentstatus gender  ...  \\\n",
      "0     Basic   College        2011-02-18         Employed      M  ...   \n",
      "1     Basic   College        2011-01-18       Unemployed      F  ...   \n",
      "2     Basic  Bachelor        2011-02-10         Employed      M  ...   \n",
      "3  Extended   College        2011-01-11         Employed      M  ...   \n",
      "4   Premium  Bachelor        2011-01-17    Medical Leave      F  ...   \n",
      "\n",
      "   number_of_policies     policy_type        policy  renew_offer_type  \\\n",
      "0                   9  Corporate Auto  Corporate L3            Offer3   \n",
      "1                   1   Personal Auto   Personal L3            Offer4   \n",
      "2                   2   Personal Auto   Personal L3            Offer3   \n",
      "3                   2  Corporate Auto  Corporate L3            Offer2   \n",
      "4                   7   Personal Auto   Personal L2            Offer1   \n",
      "\n",
      "   sales_channel  total_claim_amount  vehicle_class  vehicle_size  \\\n",
      "0          Agent          292.800000  Four-Door Car       Medsize   \n",
      "1    Call Center          744.924331  Four-Door Car       Medsize   \n",
      "2    Call Center          480.000000            SUV       Medsize   \n",
      "3         Branch          484.013411  Four-Door Car       Medsize   \n",
      "4         Branch          707.925645  Four-Door Car       Medsize   \n",
      "\n",
      "  vehicle_type month  \n",
      "0            A     2  \n",
      "1            A     1  \n",
      "2            A     2  \n",
      "3            A     1  \n",
      "4            A     1  \n",
      "\n",
      "[5 rows x 27 columns]\n",
      "Index(['unnamed:_0', 'customer', 'state', 'customer_lifetime_value',\n",
      "       'response', 'coverage', 'education', 'effective_to_date',\n",
      "       'employmentstatus', 'gender', 'income', 'location_code',\n",
      "       'marital_status', 'monthly_premium_auto', 'months_since_last_claim',\n",
      "       'months_since_policy_inception', 'number_of_open_complaints',\n",
      "       'number_of_policies', 'policy_type', 'policy', 'renew_offer_type',\n",
      "       'sales_channel', 'total_claim_amount', 'vehicle_class', 'vehicle_size',\n",
      "       'vehicle_type', 'month'],\n",
      "      dtype='object')\n"
     ]
    }
   ],
   "source": [
    "# import data \n",
    "\n",
    "import pandas as pd\n",
    "import numpy as np\n",
    "\n",
    "dc_c = pd.read_csv('/Users/verapinto/Desktop/LABS/lab-dw-data-structuring-and-combining/cleaned_combined_dataset.csv')\n",
    "dc_4 = pd.read_csv('https://raw.githubusercontent.com/data-bootcamp-v4/data/main/marketing_customer_analysis_clean.csv')\n",
    "\n",
    "print(dc_4.head())\n",
    "print(dc_4.columns)\n"
   ]
  },
  {
   "cell_type": "markdown",
   "id": "df35fd0d-513e-4e77-867e-429da10a9cc7",
   "metadata": {
    "id": "df35fd0d-513e-4e77-867e-429da10a9cc7"
   },
   "source": [
    "1. You work at the marketing department and you want to know which sales channel brought the most sales in terms of total revenue. Using pivot, create a summary table showing the total revenue for each sales channel (branch, call center, web, and mail).\n",
    "Round the total revenue to 2 decimal points.  Analyze the resulting table to draw insights."
   ]
  },
  {
   "cell_type": "code",
   "execution_count": 134,
   "id": "195ed7e5-5164-4d85-b55f-02e6590b1d9d",
   "metadata": {},
   "outputs": [
    {
     "name": "stdout",
     "output_type": "stream",
     "text": [
      "  Sales Channel  Total Revenue\n",
      "0         Agent    38344340.50\n",
      "1        Branch    28209908.73\n",
      "2   Call Center    20112017.11\n",
      "3           Web    14879675.84\n"
     ]
    }
   ],
   "source": [
    "# Ensure the columns are numeric\n",
    "dc_4['customer_lifetime_value'] = pd.to_numeric(dc_4['customer_lifetime_value'], errors='coerce')\n",
    "dc_4['number_of_policies'] = pd.to_numeric(dc_4['number_of_policies'], errors='coerce')\n",
    "dc_4['total_claim_amount'] = pd.to_numeric(dc_4['total_claim_amount'], errors='coerce')\n",
    "\n",
    "# Calculate total revenue\n",
    "dc_4['total_revenue'] = dc_4['customer_lifetime_value'] + (dc_4['number_of_policies'] * dc_4['total_claim_amount'])\n",
    "\n",
    "# Round the total revenue to 2 decimal points\n",
    "dc_4['total_revenue'] = dc_4['total_revenue'].round(2)\n",
    "\n",
    "# Create a pivot table to summarize the total revenue for each sales channel\n",
    "pivot_table = dc_4.pivot_table( index='sales_channel', values='total_revenue',aggfunc='sum').reset_index()\n",
    "\n",
    "# Rename columns for clarity\n",
    "pivot_table.columns = ['Sales Channel', 'Total Revenue']\n",
    "\n",
    "# Print the pivot table\n",
    "print(pivot_table)"
   ]
  },
  {
   "cell_type": "code",
   "execution_count": 138,
   "id": "0a1e8f5c-8115-4442-971f-5b9e9c38b314",
   "metadata": {},
   "outputs": [
    {
     "name": "stdout",
     "output_type": "stream",
     "text": [
      "The top-performing sales channel is 'Agent' with a total revenue of 38344340.50.\n"
     ]
    }
   ],
   "source": [
    "# Analyze the pivot table to draw insights\n",
    "top_sales_channel = pivot_table.loc[pivot_table['Total Revenue'].idxmax()]\n",
    "print(f\"The top-performing sales channel is '{top_sales_channel['Sales Channel']}' with a total revenue of {top_sales_channel['Total Revenue']:.2f}.\")\n"
   ]
  },
  {
   "cell_type": "markdown",
   "id": "640993b2-a291-436c-a34d-a551144f8196",
   "metadata": {
    "id": "640993b2-a291-436c-a34d-a551144f8196"
   },
   "source": [
    "2. Create a pivot table that shows the average customer lifetime value per gender and education level. Analyze the resulting table to draw insights."
   ]
  },
  {
   "cell_type": "code",
   "execution_count": 156,
   "id": "df616bd7-758a-481a-8009-ee0f0e723c93",
   "metadata": {},
   "outputs": [
    {
     "name": "stdout",
     "output_type": "stream",
     "text": [
      "education gender  Bachelor  College  Doctor  High School or Below  Master\n",
      "0              F    7874.0   7749.0  7329.0                8675.0  8157.0\n",
      "1              M    7704.0   8052.0  7415.0                8150.0  8169.0\n"
     ]
    }
   ],
   "source": [
    "# Create the pivot table to calculate the average customer lifetime value per gender and education level\n",
    "pivot_table = dc_4.pivot_table(index='gender', columns='education', values='customer_lifetime_value', aggfunc='mean').reset_index()\n",
    "\n",
    "# Round the values to 2 decimal points for better readability\n",
    "pivot_table = pivot_table.round(0)\n",
    "\n",
    "# Print the pivot table\n",
    "print(pivot_table)"
   ]
  },
  {
   "cell_type": "code",
   "execution_count": 160,
   "id": "1d76c85f-a6a7-4a29-9022-d0c40ed000a8",
   "metadata": {},
   "outputs": [
    {
     "name": "stdout",
     "output_type": "stream",
     "text": [
      "The highest customer lifetime value is 8675.00 for F customers with High School or Below education.\n"
     ]
    }
   ],
   "source": [
    "# Find the maximum customer lifetime value in the pivot table\n",
    "max_value = pivot_table.set_index('gender').max().max()\n",
    "\n",
    "# Find the corresponding gender and education level\n",
    "top_education = pivot_table.set_index('gender').max().idxmax()\n",
    "top_gender = pivot_table.set_index('gender')[top_education].idxmax()\n",
    "\n",
    "print(f\"The highest customer lifetime value is {max_value:.2f} for {top_gender} customers with {top_education} education.\")"
   ]
  },
  {
   "cell_type": "markdown",
   "id": "32c7f2e5-3d90-43e5-be33-9781b6069198",
   "metadata": {
    "id": "32c7f2e5-3d90-43e5-be33-9781b6069198"
   },
   "source": [
    "## Bonus\n",
    "\n",
    "You work at the customer service department and you want to know which months had the highest number of complaints by policy type category. Create a summary table showing the number of complaints by policy type and month.\n",
    "Show it in a long format table."
   ]
  },
  {
   "cell_type": "markdown",
   "id": "e3d09a8f-953c-448a-a5f8-2e5a8cca7291",
   "metadata": {
    "id": "e3d09a8f-953c-448a-a5f8-2e5a8cca7291"
   },
   "source": [
    "*In data analysis, a long format table is a way of structuring data in which each observation or measurement is stored in a separate row of the table. The key characteristic of a long format table is that each column represents a single variable, and each row represents a single observation of that variable.*\n",
    "\n",
    "*More information about long and wide format tables here: https://www.statology.org/long-vs-wide-data/*"
   ]
  },
  {
   "cell_type": "code",
   "execution_count": null,
   "id": "3a069e0b-b400-470e-904d-d17582191be4",
   "metadata": {
    "id": "3a069e0b-b400-470e-904d-d17582191be4"
   },
   "outputs": [],
   "source": [
    "# Your code goes here"
   ]
  }
 ],
 "metadata": {
  "colab": {
   "provenance": []
  },
  "kernelspec": {
   "display_name": "Python [conda env:base] *",
   "language": "python",
   "name": "conda-base-py"
  },
  "language_info": {
   "codemirror_mode": {
    "name": "ipython",
    "version": 3
   },
   "file_extension": ".py",
   "mimetype": "text/x-python",
   "name": "python",
   "nbconvert_exporter": "python",
   "pygments_lexer": "ipython3",
   "version": "3.12.7"
  }
 },
 "nbformat": 4,
 "nbformat_minor": 5
}
